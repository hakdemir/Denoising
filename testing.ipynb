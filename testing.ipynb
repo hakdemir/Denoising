{
 "cells": [
  {
   "attachments": {},
   "cell_type": "markdown",
   "metadata": {},
   "source": [
    "# Test run\n",
    "We will do a test run on 250 images from the test set in order to calculate the metrics for the model."
   ]
  },
  {
   "cell_type": "code",
   "execution_count": 1,
   "metadata": {},
   "outputs": [],
   "source": [
    "import os\n",
    "import numpy as np\n",
    "import matplotlib.pyplot as plt\n",
    "import torch\n",
    "import torch.nn as nn\n",
    "import cv2\n",
    "import imageio\n",
    "\n",
    "from IPython.display import Image\n",
    "from models.archs.kbnet_s_arch import KBNet_s\n",
    "from metrics import mse, psnr"
   ]
  },
  {
   "cell_type": "code",
   "execution_count": 2,
   "metadata": {},
   "outputs": [],
   "source": [
    "SOURCE_FOLDER = r'test_set\\image'"
   ]
  },
  {
   "attachments": {},
   "cell_type": "markdown",
   "metadata": {},
   "source": [
    "First, import the model"
   ]
  },
  {
   "cell_type": "code",
   "execution_count": 5,
   "metadata": {},
   "outputs": [
    {
     "data": {
      "text/plain": [
       "<All keys matched successfully>"
      ]
     },
     "execution_count": 5,
     "metadata": {},
     "output_type": "execute_result"
    }
   ],
   "source": [
    "model = KBNet_s(img_channel=1)\n",
    "model = nn.DataParallel(model)\n",
    "model.eval()\n",
    "\n",
    "weights = torch.load(\"models\\pretrained\\gau_gray_25.pth\")\n",
    "model.load_state_dict(weights[\"net\"])"
   ]
  },
  {
   "attachments": {},
   "cell_type": "markdown",
   "metadata": {},
   "source": [
    "Import the images"
   ]
  },
  {
   "cell_type": "code",
   "execution_count": 3,
   "metadata": {},
   "outputs": [],
   "source": [
    "images = []\n",
    "for file in os.listdir(SOURCE_FOLDER):\n",
    "    img = cv2.imread(os.path.join(SOURCE_FOLDER, file), 0)\n",
    "    # convert to numpy array\n",
    "    img = np.array(img)\n",
    "    # normalize\n",
    "    img = img / np.max(img)\n",
    "    images.append(img)"
   ]
  },
  {
   "attachments": {},
   "cell_type": "markdown",
   "metadata": {},
   "source": [
    "Add noise to the images"
   ]
  },
  {
   "cell_type": "code",
   "execution_count": 4,
   "metadata": {},
   "outputs": [],
   "source": [
    "noisy_images = []\n",
    "for img in images:\n",
    "    noisy_img = img + np.random.normal(0, 0.1, img.shape)\n",
    "    noisy_images.append(noisy_img)"
   ]
  },
  {
   "attachments": {},
   "cell_type": "markdown",
   "metadata": {},
   "source": [
    "Denoise the images"
   ]
  },
  {
   "cell_type": "code",
   "execution_count": 6,
   "metadata": {},
   "outputs": [],
   "source": [
    "denoised_images = []\n",
    "for i in range(len(noisy_images)):\n",
    "    # convert to torch tensor\n",
    "    noisy_img = torch.from_numpy(noisy_images[i]).unsqueeze(0).unsqueeze(0).float()\n",
    "\n",
    "    # run the model\n",
    "    with torch.no_grad():\n",
    "        denoised_img = model(noisy_img)\n",
    "\n",
    "    # convert to numpy array\n",
    "    denoised_img = denoised_img.squeeze().squeeze().numpy()\n",
    "    denoised_images.append(denoised_img)"
   ]
  },
  {
   "attachments": {},
   "cell_type": "markdown",
   "metadata": {},
   "source": [
    "Finally, calculate the metrics"
   ]
  },
  {
   "cell_type": "code",
   "execution_count": 8,
   "metadata": {},
   "outputs": [
    {
     "name": "stdout",
     "output_type": "stream",
     "text": [
      "MSE: 0.0004\n",
      "PSNR: 82.2514\n"
     ]
    }
   ],
   "source": [
    "mse_values = []\n",
    "for img, denoised_img in zip(images, denoised_images):\n",
    "    mse_value = mse(img, denoised_img)\n",
    "    mse_values.append(mse_value)\n",
    "\n",
    "psnr_values = []\n",
    "for img, denoised_img in zip(images, denoised_images):\n",
    "    psnr_value = psnr(img, denoised_img)\n",
    "    psnr_values.append(psnr_value)\n",
    "\n",
    "print(\"MSE: {:.4f}\".format(np.mean(mse_values)))\n",
    "print(\"PSNR: {:.4f}\".format(np.mean(psnr_values)))"
   ]
  }
 ],
 "metadata": {
  "kernelspec": {
   "display_name": "Python 3",
   "language": "python",
   "name": "python3"
  },
  "language_info": {
   "codemirror_mode": {
    "name": "ipython",
    "version": 3
   },
   "file_extension": ".py",
   "mimetype": "text/x-python",
   "name": "python",
   "nbconvert_exporter": "python",
   "pygments_lexer": "ipython3",
   "version": "3.8.10"
  },
  "orig_nbformat": 4
 },
 "nbformat": 4,
 "nbformat_minor": 2
}
